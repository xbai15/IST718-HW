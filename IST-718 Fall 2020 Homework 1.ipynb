{
 "cells": [
  {
   "cell_type": "markdown",
   "metadata": {},
   "source": [
    "##### Grading Feedback Cell"
   ]
  },
  {
   "cell_type": "markdown",
   "metadata": {
    "deletable": false,
    "nbgrader": {
     "checksum": "c51f80b694da894627ba37be28c86055",
     "grade": false,
     "grade_id": "cell-b038e38b5e3072a9",
     "locked": true,
     "schema_version": 1,
     "solution": false
    }
   },
   "source": [
    "# IST 718: Big Data Analytics\n",
    "\n",
    "- Professor: Willard Williamson <wewillia@syr.edu>\n",
    "- Faculty Assistant: Vidushi Mishra <vmishr01@syr.edu>\n",
    "- Faculty Assistant: Pranav Kottoli Radhakrishna <pkottoli@syr.edu>\n",
    "## General instructions:\n",
    "\n",
    "- You are welcome to discuss the problems with your classmates but __you are not allowed to copy any part of your answers from your classmates.  Short code snippets are allowed from the internet.  Code from the class text books or class provided code can be copied in its entirety.__\n",
    "- There could be tests in some cells (i.e., `assert` and `np.testing.` statements). These tests (if present) are used to grade your answers. **However, the professor and FAs could use __additional__ test for your answer. Think about cases where your code should run even if it passess all the tests you see.**\n",
    "- Before submitting your work, remember to check for run time errors with the following procedure:\n",
    "`Kernel`$\\rightarrow$`Restart and Run All`.  All runtime errors will result in a minimum penalty of half off.\n",
    "- Data Bricks is the official class runtime environment so you should test your code on Data Bricks before submission.  If there is a runtime problem in the grading environment, we will try your code on Data Bricks before making a final grading decision.\n",
    "- All plots shall include a title, and axis labels.  Unless stated otherwise, plots can be made using your favorite Python plotting package.\n",
    "- Grading feedback cells are there for graders to provide feedback to students.  Don't change or remove grading feedback cells.\n",
    "- Don't add or remove files from your git repo.\n",
    "- Do not change file names in your repo.  This also means don't change the title of the ipython notebook.\n",
    "- You are free to add additional code cells around the cells marked `your code here`.\n",
    "- Students may use toPandas() to print the head of data frames.\n",
    "- We reserve the right to take points off for operations that are extremely inefficient.  This is a big data class and extremely inefficient operations make a big difference when scaling up to large data sets.\n",
    "- Students are responsible for reading the usage comments and understanding how to properly use the utility functions (like get_training_filename()) provided in the assignments.  Runtime errors which result from incorrect usage of utility functions shall result in a  point reduction.  \n",
    "- import * is not allowed because it is considered a very bad coding practice and in some cases can result in a significant delay (which slows down the grading process) in loading imports.  For example, the statement `from sympy import *` is not allowed.  You must import the specific packages that you need.\n",
    "- If you perform databricks specific operations, you MUST protect those operations in an if statement by calling the is_databricks() function provided in all homework assignments.  For example, if you use dbutils (databricks utilities), only run dbutils commands if is_databricks() returns true.  Runtime errors created in the grading environment by not protecting databricks specific commands in an if statement will result in a runtime error points deduction. \n",
    "- The graders reserve the right to deduct points for subjective things we see with your code.  For example, if we ask you to create a pandas data frame to display values from an investigation and you hard code the values, we will take points off for that.  This is only one of many different things we could find in reviewing your code.  In general, write your code like you are submitting it for a code peer review in industry.  \n",
    "- Level of effort is part of our subjective grading.  Oftentimes there is a large disparity between the level of effort between students who are trying learn, and students who are trying to do the minimum possible to check off an assignment requirement.  For example, in cases where we ask for a more open ended investigation, some students put in significant effort and some students do the minimum possible to meet requirements.  In these cases, we may take points off for students who did not put in much effort as compared to students who did put in a lot of effort.  We feel that the students who did a better job deserve a better grade.  We reserve the right to invoke level of effort grading at any time.\n",
    "- __Only use spark, spark machine learning, spark data frames, RDD's, and map reduce to solve all problems unless instructed otherwise.  Heavy weight operations that convert data to pandas or spark (like collect()) will result in a point reduction.__"
   ]
  },
  {
   "cell_type": "code",
   "execution_count": 1,
   "metadata": {
    "deletable": false,
    "editable": false,
    "nbgrader": {
     "checksum": "c51f80b694da894627ba37be28c86055",
     "grade": false,
     "grade_id": "cell-b038e38b5e3072a9",
     "locked": true,
     "schema_version": 1,
     "solution": false
    }
   },
   "outputs": [],
   "source": [
    "# Do not delete or change this cell\n",
    "\n",
    "# grading import statements\n",
    "from pyspark.sql import SparkSession\n",
    "from pyspark.sql import SQLContext\n",
    "spark = SparkSession.builder.getOrCreate()\n",
    "sc = spark.sparkContext\n",
    "sqlContext = SQLContext(sc)\n",
    "import os\n",
    "\n",
    "# Define a function to determine if we are running on data bricks\n",
    "# Return true if running in the data bricks environment, false otherwise\n",
    "def is_databricks():\n",
    "    # get the databricks runtime version\n",
    "    db_env = os.getenv(\"DATABRICKS_RUNTIME_VERSION\")\n",
    "    \n",
    "    # if running on data bricks\n",
    "    if db_env != None:\n",
    "        return True\n",
    "    else:\n",
    "        return False\n",
    "\n",
    "# Define a function to read the data file.  The full path data file name is constructed\n",
    "# by checking runtime environment variables to determine if the runtime environment is \n",
    "# databricks, or a student's personal computer.  The full path file name is then\n",
    "# constructed based on the runtime env.\n",
    "# \n",
    "# Params\n",
    "#   data_file_name: The base name of the data file to load\n",
    "# \n",
    "# Returns the full path file name based on the runtime env\n",
    "#\n",
    "# Correct Usage Example (pass ONLY the full file name):\n",
    "#   file_name_to_load = get_training_filename(\"sms_spam.csv\") # correct - pass ONLY the full file name  \n",
    "#   \n",
    "# Incorrect Usage Example\n",
    "#   file_name_to_load = get_training_filename(\"/sms_spam.csv\") # incorrect - pass ONLY the full file name\n",
    "#   file_name_to_load = get_training_filename(\"sms_spam.csv/\") # incorrect - pass ONLY the full file name\n",
    "#   file_name_to_load = get_training_filename(\"c:/users/will/data/sms_spam.csv\") incorrect -pass ONLY the full file name\n",
    "def get_training_filename(data_file_name):    \n",
    "    # if running on data bricks\n",
    "    if is_databricks():\n",
    "        # build the full path file name assuming data brick env\n",
    "        full_path_name = \"/FileStore/tables/%s\" % data_file_name\n",
    "    # else the data is assumed to be in the same dir as this notebook\n",
    "    else:\n",
    "        # Assume the student is running on their own computer and load the data\n",
    "        # file from the same dir as this notebook\n",
    "        full_path_name = data_file_name\n",
    "    \n",
    "    # return the full path file name to the caller\n",
    "    return full_path_name"
   ]
  },
  {
   "cell_type": "markdown",
   "metadata": {},
   "source": [
    "# Question 1 (10 pts)\n",
    "In the game of [roullete](https://en.wikipedia.org/wiki/Roulette) you can bet on several things including if the ball will land on black or red. In a black or red bet, if you win, you double your earnings. How does the casino make money? If you look at the possibilities you realize that the chance of red or black are both slightly less than 1/2. There are two green spots, so the chance of landing on black (or red) is actually 18/38, or 9/19.<br>\n",
    "Create a utility function which can be used in a monte carlo simulation named get_outcome. The get_outcome function takes as an argument the number of times you play (or spin) the roulette wheel and returns the player's earnings for the number of spins specified.  Assume that the player bets exactly one dollar on black for each spin of the wheel."
   ]
  },
  {
   "cell_type": "code",
   "execution_count": null,
   "metadata": {},
   "outputs": [],
   "source": [
    "# your code here\n"
   ]
  },
  {
   "cell_type": "code",
   "execution_count": null,
   "metadata": {},
   "outputs": [],
   "source": [
    "# Grading cell - do not change or delete\n",
    "num_plays = 10000\n",
    "get_outcome(num_plays) / num_plays"
   ]
  },
  {
   "cell_type": "markdown",
   "metadata": {},
   "source": [
    "##### Grading Feedback Cell"
   ]
  },
  {
   "cell_type": "markdown",
   "metadata": {},
   "source": [
    "# Question 2 (10 pts)\n",
    "Using the get_outcome function defined above, use a monte carlo simulation to study the distribution of total earnings.  Run 4 simulations for number of roulette plays = 10, 25, 100, and 1000 where each of the 4 simulations is executed 500 times.  Collect the results into a 2 dimensional numpy array named roulette_sim_array.  The data frame shall have 4 labeled columns where each column contains data from each of the 4 simulations. Create histograms that show the distributions of total earnings for the 4 simulations.  Based on the histogram plots, describe what happens to toal earnings as the number of plays increases."
   ]
  },
  {
   "cell_type": "code",
   "execution_count": 10,
   "metadata": {},
   "outputs": [],
   "source": [
    "# your code here\n"
   ]
  },
  {
   "cell_type": "markdown",
   "metadata": {},
   "source": [
    "##### Grading Feedback Cell"
   ]
  },
  {
   "cell_type": "markdown",
   "metadata": {},
   "source": [
    "Your explanation here:<br>  "
   ]
  },
  {
   "cell_type": "markdown",
   "metadata": {},
   "source": [
    "##### Grading Feedback Cell"
   ]
  },
  {
   "cell_type": "markdown",
   "metadata": {},
   "source": [
    "# Question 3 (10 pts)\n",
    "Using the central limit theorem, create a pandas dataframe named roulette_df containing the sampling distribution of the means from the sample data in the numpy array above.  The pandas dataframe should have 4 columns labeled with the simulation names. Using data in the roulette_df, plot histograms for each of the sampling distributions - you should have 4 histograms in total.<br>  Assuming you don't know the underlying distribution of the population from which the samples were drawn, some of the histograms are gauranteed to be Gaussian in shape, some are not gauranteed, and some are in a transition region. For each of the 4 simulations, describe if you think the shape is gauranteed to be gaussian, not gauranteed to be Gaussian, or in a transition area between a gaurantee and no gaurantee."
   ]
  },
  {
   "cell_type": "code",
   "execution_count": null,
   "metadata": {},
   "outputs": [],
   "source": [
    "# Your histogram code here"
   ]
  },
  {
   "cell_type": "code",
   "execution_count": null,
   "metadata": {},
   "outputs": [],
   "source": [
    "# Grading cell - do not modify\n",
    "roulette_df.head()"
   ]
  },
  {
   "cell_type": "markdown",
   "metadata": {},
   "source": [
    "##### Grading Feedback Cell"
   ]
  },
  {
   "cell_type": "markdown",
   "metadata": {},
   "source": [
    "Your explanation here:<br>"
   ]
  },
  {
   "cell_type": "markdown",
   "metadata": {},
   "source": [
    "##### Grading Feedback Cell"
   ]
  },
  {
   "cell_type": "markdown",
   "metadata": {},
   "source": [
    "# Question 4 (20 pts)\n",
    "Create a new monte carlo simulation that calculates the probability that the casino loses money based on the number of times that a player plays roulette.  Create a function p_casino_loss that takes as an argument the number of times that the player plays roulette, and returns the probability that the casino loses money.  Using data collected from p_casino_loss, produce a line plot that shows the probability that the casino loses money vs. the number of games played for number of games between 25 and 1000.  Describe what the results of the simulation show."
   ]
  },
  {
   "cell_type": "code",
   "execution_count": 11,
   "metadata": {},
   "outputs": [],
   "source": [
    "# your code here"
   ]
  },
  {
   "cell_type": "markdown",
   "metadata": {},
   "source": [
    "Your explanation here:<br>"
   ]
  },
  {
   "cell_type": "markdown",
   "metadata": {},
   "source": [
    "##### Grading Feedback Cell"
   ]
  },
  {
   "cell_type": "markdown",
   "metadata": {},
   "source": [
    "# Question 5 (10 pts)\n",
    "Compute the following matrix dot product manually by creating 2 dimensinal nympy arrays for each matrix, computing the matrix multiply using for loops, and loading a new 2 dimensional numpy array with the answer.  Print the resulting numpy array.\n",
    "\n",
    "$$\n",
    "\\quad\n",
    "\\begin{bmatrix} \n",
    "3 & 7 \\\\\n",
    "6 & 9 \\\\\n",
    "4 & 2 \\\\\n",
    "\\end{bmatrix}\n",
    "\\quad\n",
    "*\n",
    "\\quad\n",
    "\\begin{bmatrix} \n",
    "2 & 5 & 7\\\\\n",
    "2 & 5 & 1\n",
    "\\end{bmatrix}\n",
    "\\quad\n",
    "$$"
   ]
  },
  {
   "cell_type": "code",
   "execution_count": null,
   "metadata": {},
   "outputs": [],
   "source": [
    "# your code here"
   ]
  },
  {
   "cell_type": "markdown",
   "metadata": {},
   "source": [
    "##### Grading Feedback Cell"
   ]
  },
  {
   "cell_type": "markdown",
   "metadata": {},
   "source": [
    "# Question 6 (10 pts)\n",
    "Read each of the csv files in your assignment repo into pandas dataframes named population_df, morttality_df, life_exp_df, and fertility_df.  Rename the column with the country names as \"Country\" in each of the dataframes."
   ]
  },
  {
   "cell_type": "code",
   "execution_count": 16,
   "metadata": {},
   "outputs": [
    {
     "data": {
      "text/html": [
       "<div>\n",
       "<style scoped>\n",
       "    .dataframe tbody tr th:only-of-type {\n",
       "        vertical-align: middle;\n",
       "    }\n",
       "\n",
       "    .dataframe tbody tr th {\n",
       "        vertical-align: top;\n",
       "    }\n",
       "\n",
       "    .dataframe thead th {\n",
       "        text-align: right;\n",
       "    }\n",
       "</style>\n",
       "<table border=\"1\" class=\"dataframe\">\n",
       "  <thead>\n",
       "    <tr style=\"text-align: right;\">\n",
       "      <th></th>\n",
       "      <th>Total population</th>\n",
       "      <th>1800</th>\n",
       "      <th>1810</th>\n",
       "      <th>1820</th>\n",
       "      <th>1830</th>\n",
       "      <th>1840</th>\n",
       "      <th>1850</th>\n",
       "      <th>1860</th>\n",
       "      <th>1870</th>\n",
       "      <th>1880</th>\n",
       "      <th>...</th>\n",
       "      <th>2006</th>\n",
       "      <th>2007</th>\n",
       "      <th>2008</th>\n",
       "      <th>2009</th>\n",
       "      <th>2010</th>\n",
       "      <th>2011</th>\n",
       "      <th>2012</th>\n",
       "      <th>2013</th>\n",
       "      <th>2014</th>\n",
       "      <th>2015</th>\n",
       "    </tr>\n",
       "  </thead>\n",
       "  <tbody>\n",
       "    <tr>\n",
       "      <td>0</td>\n",
       "      <td>Abkhazia</td>\n",
       "      <td>NaN</td>\n",
       "      <td>NaN</td>\n",
       "      <td>NaN</td>\n",
       "      <td>NaN</td>\n",
       "      <td>NaN</td>\n",
       "      <td>NaN</td>\n",
       "      <td>NaN</td>\n",
       "      <td>NaN</td>\n",
       "      <td>NaN</td>\n",
       "      <td>...</td>\n",
       "      <td>NaN</td>\n",
       "      <td>NaN</td>\n",
       "      <td>NaN</td>\n",
       "      <td>NaN</td>\n",
       "      <td>NaN</td>\n",
       "      <td>NaN</td>\n",
       "      <td>NaN</td>\n",
       "      <td>NaN</td>\n",
       "      <td>NaN</td>\n",
       "      <td>NaN</td>\n",
       "    </tr>\n",
       "    <tr>\n",
       "      <td>1</td>\n",
       "      <td>Afghanistan</td>\n",
       "      <td>3280000</td>\n",
       "      <td>3280000</td>\n",
       "      <td>3323519</td>\n",
       "      <td>3448982</td>\n",
       "      <td>3625022</td>\n",
       "      <td>3810047</td>\n",
       "      <td>3973968</td>\n",
       "      <td>4169690</td>\n",
       "      <td>4419695</td>\n",
       "      <td>...</td>\n",
       "      <td>25183615</td>\n",
       "      <td>25877544</td>\n",
       "      <td>26528741</td>\n",
       "      <td>27207291</td>\n",
       "      <td>27962207</td>\n",
       "      <td>28809167</td>\n",
       "      <td>29726803</td>\n",
       "      <td>30682500</td>\n",
       "      <td>31627506</td>\n",
       "      <td>32526562</td>\n",
       "    </tr>\n",
       "    <tr>\n",
       "      <td>2</td>\n",
       "      <td>Akrotiri and Dhekelia</td>\n",
       "      <td>NaN</td>\n",
       "      <td>NaN</td>\n",
       "      <td>NaN</td>\n",
       "      <td>NaN</td>\n",
       "      <td>NaN</td>\n",
       "      <td>NaN</td>\n",
       "      <td>NaN</td>\n",
       "      <td>NaN</td>\n",
       "      <td>NaN</td>\n",
       "      <td>...</td>\n",
       "      <td>15700</td>\n",
       "      <td>15700</td>\n",
       "      <td>15700</td>\n",
       "      <td>NaN</td>\n",
       "      <td>NaN</td>\n",
       "      <td>NaN</td>\n",
       "      <td>NaN</td>\n",
       "      <td>NaN</td>\n",
       "      <td>NaN</td>\n",
       "      <td>NaN</td>\n",
       "    </tr>\n",
       "    <tr>\n",
       "      <td>3</td>\n",
       "      <td>Albania</td>\n",
       "      <td>410,445</td>\n",
       "      <td>423591</td>\n",
       "      <td>438671</td>\n",
       "      <td>457234</td>\n",
       "      <td>478227</td>\n",
       "      <td>506889</td>\n",
       "      <td>552800</td>\n",
       "      <td>610036</td>\n",
       "      <td>672544</td>\n",
       "      <td>...</td>\n",
       "      <td>3050741</td>\n",
       "      <td>3010849</td>\n",
       "      <td>2968026</td>\n",
       "      <td>2929886</td>\n",
       "      <td>2901883</td>\n",
       "      <td>2886010</td>\n",
       "      <td>2880667</td>\n",
       "      <td>2883281</td>\n",
       "      <td>2889676</td>\n",
       "      <td>2896679</td>\n",
       "    </tr>\n",
       "    <tr>\n",
       "      <td>4</td>\n",
       "      <td>Algeria</td>\n",
       "      <td>2,503,218</td>\n",
       "      <td>2595056</td>\n",
       "      <td>2713079</td>\n",
       "      <td>2880355</td>\n",
       "      <td>3082721</td>\n",
       "      <td>3299305</td>\n",
       "      <td>3536468</td>\n",
       "      <td>3811028</td>\n",
       "      <td>4143163</td>\n",
       "      <td>...</td>\n",
       "      <td>33749328</td>\n",
       "      <td>34261971</td>\n",
       "      <td>34811059</td>\n",
       "      <td>35401790</td>\n",
       "      <td>36036159</td>\n",
       "      <td>36717132</td>\n",
       "      <td>37439427</td>\n",
       "      <td>38186135</td>\n",
       "      <td>38934334</td>\n",
       "      <td>39666519</td>\n",
       "    </tr>\n",
       "  </tbody>\n",
       "</table>\n",
       "<p>5 rows × 82 columns</p>\n",
       "</div>"
      ],
      "text/plain": [
       "        Total population       1800     1810     1820     1830     1840  \\\n",
       "0               Abkhazia        NaN      NaN      NaN      NaN      NaN   \n",
       "1            Afghanistan    3280000  3280000  3323519  3448982  3625022   \n",
       "2  Akrotiri and Dhekelia        NaN      NaN      NaN      NaN      NaN   \n",
       "3                Albania    410,445   423591   438671   457234   478227   \n",
       "4                Algeria  2,503,218  2595056  2713079  2880355  3082721   \n",
       "\n",
       "      1850     1860     1870     1880  ...      2006      2007      2008  \\\n",
       "0      NaN      NaN      NaN      NaN  ...       NaN       NaN       NaN   \n",
       "1  3810047  3973968  4169690  4419695  ...  25183615  25877544  26528741   \n",
       "2      NaN      NaN      NaN      NaN  ...     15700     15700     15700   \n",
       "3   506889   552800   610036   672544  ...   3050741   3010849   2968026   \n",
       "4  3299305  3536468  3811028  4143163  ...  33749328  34261971  34811059   \n",
       "\n",
       "       2009      2010      2011      2012      2013      2014      2015  \n",
       "0       NaN       NaN       NaN       NaN       NaN       NaN       NaN  \n",
       "1  27207291  27962207  28809167  29726803  30682500  31627506  32526562  \n",
       "2       NaN       NaN       NaN       NaN       NaN       NaN       NaN  \n",
       "3   2929886   2901883   2886010   2880667   2883281   2889676   2896679  \n",
       "4  35401790  36036159  36717132  37439427  38186135  38934334  39666519  \n",
       "\n",
       "[5 rows x 82 columns]"
      ]
     },
     "metadata": {},
     "output_type": "display_data"
    },
    {
     "data": {
      "text/html": [
       "<div>\n",
       "<style scoped>\n",
       "    .dataframe tbody tr th:only-of-type {\n",
       "        vertical-align: middle;\n",
       "    }\n",
       "\n",
       "    .dataframe tbody tr th {\n",
       "        vertical-align: top;\n",
       "    }\n",
       "\n",
       "    .dataframe thead th {\n",
       "        text-align: right;\n",
       "    }\n",
       "</style>\n",
       "<table border=\"1\" class=\"dataframe\">\n",
       "  <thead>\n",
       "    <tr style=\"text-align: right;\">\n",
       "      <th></th>\n",
       "      <th>Total population</th>\n",
       "      <th>1800</th>\n",
       "      <th>1810</th>\n",
       "      <th>1820</th>\n",
       "      <th>1830</th>\n",
       "      <th>1840</th>\n",
       "      <th>1850</th>\n",
       "      <th>1860</th>\n",
       "      <th>1870</th>\n",
       "      <th>1880</th>\n",
       "      <th>...</th>\n",
       "      <th>2006</th>\n",
       "      <th>2007</th>\n",
       "      <th>2008</th>\n",
       "      <th>2009</th>\n",
       "      <th>2010</th>\n",
       "      <th>2011</th>\n",
       "      <th>2012</th>\n",
       "      <th>2013</th>\n",
       "      <th>2014</th>\n",
       "      <th>2015</th>\n",
       "    </tr>\n",
       "  </thead>\n",
       "  <tbody>\n",
       "    <tr>\n",
       "      <td>1</td>\n",
       "      <td>Afghanistan</td>\n",
       "      <td>3280000</td>\n",
       "      <td>3280000</td>\n",
       "      <td>3323519</td>\n",
       "      <td>3448982</td>\n",
       "      <td>3625022</td>\n",
       "      <td>3810047</td>\n",
       "      <td>3973968</td>\n",
       "      <td>4169690</td>\n",
       "      <td>4419695</td>\n",
       "      <td>...</td>\n",
       "      <td>25183615</td>\n",
       "      <td>25877544</td>\n",
       "      <td>26528741</td>\n",
       "      <td>27207291</td>\n",
       "      <td>27962207</td>\n",
       "      <td>28809167</td>\n",
       "      <td>29726803</td>\n",
       "      <td>30682500</td>\n",
       "      <td>31627506</td>\n",
       "      <td>32526562</td>\n",
       "    </tr>\n",
       "    <tr>\n",
       "      <td>3</td>\n",
       "      <td>Albania</td>\n",
       "      <td>410,445</td>\n",
       "      <td>423591</td>\n",
       "      <td>438671</td>\n",
       "      <td>457234</td>\n",
       "      <td>478227</td>\n",
       "      <td>506889</td>\n",
       "      <td>552800</td>\n",
       "      <td>610036</td>\n",
       "      <td>672544</td>\n",
       "      <td>...</td>\n",
       "      <td>3050741</td>\n",
       "      <td>3010849</td>\n",
       "      <td>2968026</td>\n",
       "      <td>2929886</td>\n",
       "      <td>2901883</td>\n",
       "      <td>2886010</td>\n",
       "      <td>2880667</td>\n",
       "      <td>2883281</td>\n",
       "      <td>2889676</td>\n",
       "      <td>2896679</td>\n",
       "    </tr>\n",
       "    <tr>\n",
       "      <td>4</td>\n",
       "      <td>Algeria</td>\n",
       "      <td>2,503,218</td>\n",
       "      <td>2595056</td>\n",
       "      <td>2713079</td>\n",
       "      <td>2880355</td>\n",
       "      <td>3082721</td>\n",
       "      <td>3299305</td>\n",
       "      <td>3536468</td>\n",
       "      <td>3811028</td>\n",
       "      <td>4143163</td>\n",
       "      <td>...</td>\n",
       "      <td>33749328</td>\n",
       "      <td>34261971</td>\n",
       "      <td>34811059</td>\n",
       "      <td>35401790</td>\n",
       "      <td>36036159</td>\n",
       "      <td>36717132</td>\n",
       "      <td>37439427</td>\n",
       "      <td>38186135</td>\n",
       "      <td>38934334</td>\n",
       "      <td>39666519</td>\n",
       "    </tr>\n",
       "    <tr>\n",
       "      <td>5</td>\n",
       "      <td>American Samoa</td>\n",
       "      <td>8,170</td>\n",
       "      <td>8156</td>\n",
       "      <td>8142</td>\n",
       "      <td>8128</td>\n",
       "      <td>8114</td>\n",
       "      <td>7958</td>\n",
       "      <td>7564</td>\n",
       "      <td>7057</td>\n",
       "      <td>6582</td>\n",
       "      <td>...</td>\n",
       "      <td>58648</td>\n",
       "      <td>57904</td>\n",
       "      <td>57031</td>\n",
       "      <td>56226</td>\n",
       "      <td>55636</td>\n",
       "      <td>55316</td>\n",
       "      <td>55227</td>\n",
       "      <td>55302</td>\n",
       "      <td>55434</td>\n",
       "      <td>55538</td>\n",
       "    </tr>\n",
       "    <tr>\n",
       "      <td>6</td>\n",
       "      <td>Andorra</td>\n",
       "      <td>2654</td>\n",
       "      <td>2654</td>\n",
       "      <td>2700</td>\n",
       "      <td>2835</td>\n",
       "      <td>3026</td>\n",
       "      <td>3230</td>\n",
       "      <td>3436</td>\n",
       "      <td>3654</td>\n",
       "      <td>3885</td>\n",
       "      <td>...</td>\n",
       "      <td>83373</td>\n",
       "      <td>84878</td>\n",
       "      <td>85616</td>\n",
       "      <td>85474</td>\n",
       "      <td>84419</td>\n",
       "      <td>82326</td>\n",
       "      <td>79316</td>\n",
       "      <td>75902</td>\n",
       "      <td>72786</td>\n",
       "      <td>70473</td>\n",
       "    </tr>\n",
       "  </tbody>\n",
       "</table>\n",
       "<p>5 rows × 82 columns</p>\n",
       "</div>"
      ],
      "text/plain": [
       "  Total population       1800     1810     1820     1830     1840     1850  \\\n",
       "1      Afghanistan    3280000  3280000  3323519  3448982  3625022  3810047   \n",
       "3          Albania    410,445   423591   438671   457234   478227   506889   \n",
       "4          Algeria  2,503,218  2595056  2713079  2880355  3082721  3299305   \n",
       "5   American Samoa      8,170     8156     8142     8128     8114     7958   \n",
       "6          Andorra       2654     2654     2700     2835     3026     3230   \n",
       "\n",
       "      1860     1870     1880  ...      2006      2007      2008      2009  \\\n",
       "1  3973968  4169690  4419695  ...  25183615  25877544  26528741  27207291   \n",
       "3   552800   610036   672544  ...   3050741   3010849   2968026   2929886   \n",
       "4  3536468  3811028  4143163  ...  33749328  34261971  34811059  35401790   \n",
       "5     7564     7057     6582  ...     58648     57904     57031     56226   \n",
       "6     3436     3654     3885  ...     83373     84878     85616     85474   \n",
       "\n",
       "       2010      2011      2012      2013      2014      2015  \n",
       "1  27962207  28809167  29726803  30682500  31627506  32526562  \n",
       "3   2901883   2886010   2880667   2883281   2889676   2896679  \n",
       "4  36036159  36717132  37439427  38186135  38934334  39666519  \n",
       "5     55636     55316     55227     55302     55434     55538  \n",
       "6     84419     82326     79316     75902     72786     70473  \n",
       "\n",
       "[5 rows x 82 columns]"
      ]
     },
     "metadata": {},
     "output_type": "display_data"
    }
   ],
   "source": [
    "# your code here\n"
   ]
  },
  {
   "cell_type": "code",
   "execution_count": null,
   "metadata": {},
   "outputs": [],
   "source": [
    "# grading cell - do not modify\n",
    "display(population_df)\n",
    "display(morttality_df)\n",
    "display(life_exp_df)\n",
    "display(fertility_df)"
   ]
  },
  {
   "cell_type": "markdown",
   "metadata": {},
   "source": [
    "##### Grading Feedback Cell"
   ]
  },
  {
   "cell_type": "markdown",
   "metadata": {},
   "source": [
    "# Question 7 (10 pts)\n",
    "The data frames from the question above are organized such that rows are countries and columns are years.  Reorganize each data frame such that each row contains 3 columns: country, year, and a data value.  This is known as the long or tidy format.  For example, the population data frame columns start out as country, year, year, year, ..., year.  After reorganizing, the population data frame columns will contain only 3 columns: country, year, and population.  Save the reorganized data into new data frames named tidy_population_df, tidy_morttality_df, tidy_life_exp_df, and tidy_fertility_df.  You are free to use any means necessary to perform this task but the pandas melt function may be useful."
   ]
  },
  {
   "cell_type": "code",
   "execution_count": 13,
   "metadata": {},
   "outputs": [],
   "source": [
    "# your code here"
   ]
  },
  {
   "cell_type": "code",
   "execution_count": null,
   "metadata": {},
   "outputs": [],
   "source": [
    "# grading cell - do not modify\n",
    "display(tidy_population_df)\n",
    "print(tidy_population_df.size)\n",
    "display(tidy_morttality_df)\n",
    "print(tidy_morttality_df.size)\n",
    "display(tidy_life_exp_df)\n",
    "print(tidy_life_exp_df.size)\n",
    "display(tidy_fertility_df)\n",
    "print(tidy_fertility_df.size)"
   ]
  },
  {
   "cell_type": "markdown",
   "metadata": {},
   "source": [
    "##### Grading Feedback Cell"
   ]
  },
  {
   "cell_type": "markdown",
   "metadata": {},
   "source": [
    "# Question 8 (10 pts)\n",
    "Join all 4 dataframes together such that the country, year, population, mortality, life expectancy, and fertility columns are collected together in the same dataframe.  The join operation should not throw away any data.  Name the new dataframe concat_df.  Next, delete all rows where the data values (values other than country and year) are all NaN values.  Only drop the row if ALL the data values are NaN."
   ]
  },
  {
   "cell_type": "code",
   "execution_count": null,
   "metadata": {},
   "outputs": [],
   "source": [
    "# your code here\n"
   ]
  },
  {
   "cell_type": "code",
   "execution_count": null,
   "metadata": {},
   "outputs": [],
   "source": [
    "# grading cell - do not modify\n",
    "display(concat_df.head())\n",
    "print(concat_df.shape)"
   ]
  },
  {
   "cell_type": "markdown",
   "metadata": {},
   "source": [
    "##### Grading Feedback Cell"
   ]
  },
  {
   "cell_type": "markdown",
   "metadata": {},
   "source": [
    "# Question 9 (10 pts)\n",
    "Using concat_df, report the child mortality rate and life expectancy in in 2015 for these 5 countries:\n",
    "1. Sri Lanka\n",
    "2. Poland\n",
    "3. Malaysia\n",
    "4. Pakistan\n",
    "5. Thailand"
   ]
  },
  {
   "cell_type": "code",
   "execution_count": null,
   "metadata": {},
   "outputs": [],
   "source": [
    "# Your code here"
   ]
  },
  {
   "cell_type": "markdown",
   "metadata": {},
   "source": [
    "##### Grading Feedback Cell"
   ]
  }
 ],
 "metadata": {
  "kernelspec": {
   "display_name": "Python 3",
   "language": "python",
   "name": "python3"
  },
  "language_info": {
   "codemirror_mode": {
    "name": "ipython",
    "version": 3
   },
   "file_extension": ".py",
   "mimetype": "text/x-python",
   "name": "python",
   "nbconvert_exporter": "python",
   "pygments_lexer": "ipython3",
   "version": "3.8.5"
  }
 },
 "nbformat": 4,
 "nbformat_minor": 4
}
